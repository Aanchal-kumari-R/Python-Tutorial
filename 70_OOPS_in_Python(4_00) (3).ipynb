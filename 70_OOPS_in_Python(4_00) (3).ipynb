{
  "nbformat": 4,
  "nbformat_minor": 0,
  "metadata": {
    "colab": {
      "provenance": []
    },
    "kernelspec": {
      "name": "python3",
      "display_name": "Python 3"
    },
    "language_info": {
      "name": "python"
    }
  },
  "cells": [
    {
      "cell_type": "code",
      "execution_count": null,
      "metadata": {
        "id": "1gWnhJbZVtyg"
      },
      "outputs": [],
      "source": [
        "class calc:\n",
        "  def add(self):\n",
        "    n1 = 20\n",
        "    n2 = 10\n",
        "    print(\"Addition =\",n1+n2)\n",
        "\n",
        "  def sub(self):\n",
        "    n1=33\n",
        "    n2=45\n",
        "    print(\"Subtraction =\",n1-n2)"
      ]
    },
    {
      "cell_type": "code",
      "source": [
        "df1 = calc()"
      ],
      "metadata": {
        "id": "_ahxrD-nWMN5"
      },
      "execution_count": null,
      "outputs": []
    },
    {
      "cell_type": "code",
      "source": [
        "df1.add()"
      ],
      "metadata": {
        "colab": {
          "base_uri": "https://localhost:8080/"
        },
        "id": "HIU0FboOXscN",
        "outputId": "16607f43-f3d8-45c3-d4e7-c4541e8391fc"
      },
      "execution_count": null,
      "outputs": [
        {
          "output_type": "stream",
          "name": "stdout",
          "text": [
            "Addition = 30\n"
          ]
        }
      ]
    },
    {
      "cell_type": "code",
      "source": [
        "calc.add(df1)"
      ],
      "metadata": {
        "colab": {
          "base_uri": "https://localhost:8080/"
        },
        "id": "zKS38U6QYNL6",
        "outputId": "eb89e091-82b0-4ecd-8b39-4abcb4b7f05e"
      },
      "execution_count": null,
      "outputs": [
        {
          "output_type": "stream",
          "name": "stdout",
          "text": [
            "Addition = 30\n"
          ]
        }
      ]
    },
    {
      "cell_type": "code",
      "source": [],
      "metadata": {
        "id": "WkkHIs6hXtNx"
      },
      "execution_count": null,
      "outputs": []
    },
    {
      "cell_type": "code",
      "source": [
        "type(df1)"
      ],
      "metadata": {
        "colab": {
          "base_uri": "https://localhost:8080/"
        },
        "id": "SIAYn6qjW_9t",
        "outputId": "14ac481b-9278-432c-b92f-3dced76ac4ed"
      },
      "execution_count": null,
      "outputs": [
        {
          "output_type": "execute_result",
          "data": {
            "text/plain": [
              "__main__.calc"
            ]
          },
          "metadata": {},
          "execution_count": 8
        }
      ]
    },
    {
      "cell_type": "code",
      "source": [
        "n1 =78.5\n",
        "type(n1)"
      ],
      "metadata": {
        "colab": {
          "base_uri": "https://localhost:8080/"
        },
        "id": "G37UIl-3XLIq",
        "outputId": "5af3c28e-09a0-4938-a313-550b608a617d"
      },
      "execution_count": null,
      "outputs": [
        {
          "output_type": "execute_result",
          "data": {
            "text/plain": [
              "float"
            ]
          },
          "metadata": {},
          "execution_count": 10
        }
      ]
    },
    {
      "cell_type": "code",
      "source": [
        "id(df1)"
      ],
      "metadata": {
        "colab": {
          "base_uri": "https://localhost:8080/"
        },
        "id": "wIrKVevKWiVT",
        "outputId": "bf80fd5f-4388-4094-d763-6830777857c6"
      },
      "execution_count": null,
      "outputs": [
        {
          "output_type": "execute_result",
          "data": {
            "text/plain": [
              "133974219534688"
            ]
          },
          "metadata": {},
          "execution_count": 4
        }
      ]
    },
    {
      "cell_type": "code",
      "source": [
        "df2 = calc()"
      ],
      "metadata": {
        "id": "c4BDbnWLWkWg"
      },
      "execution_count": null,
      "outputs": []
    },
    {
      "cell_type": "code",
      "source": [
        "id(df2)"
      ],
      "metadata": {
        "colab": {
          "base_uri": "https://localhost:8080/"
        },
        "id": "BgzI18CpWmQb",
        "outputId": "5d11def9-a457-4d92-b698-a8085c0041f1"
      },
      "execution_count": null,
      "outputs": [
        {
          "output_type": "execute_result",
          "data": {
            "text/plain": [
              "133973801922912"
            ]
          },
          "metadata": {},
          "execution_count": 7
        }
      ]
    },
    {
      "cell_type": "code",
      "source": [
        "class calc:\n",
        "  def add(n):\n",
        "    n1=eval((input(\"Enter 1st Number :- \")))\n",
        "    n2=eval((input(\"Enter 2nd Number :- \")))\n",
        "    print(\"Addition =\",n1+n2)\n",
        "\n",
        "  def sub(n,n1,n2):\n",
        "    print(\"Subtraction =\",n1-n2)"
      ],
      "metadata": {
        "id": "QIDeydYUW8mj"
      },
      "execution_count": null,
      "outputs": []
    },
    {
      "cell_type": "code",
      "source": [
        "obj1 = calc()"
      ],
      "metadata": {
        "id": "iDfpASBHYofA"
      },
      "execution_count": null,
      "outputs": []
    },
    {
      "cell_type": "code",
      "source": [
        "obj1.add()"
      ],
      "metadata": {
        "colab": {
          "base_uri": "https://localhost:8080/"
        },
        "id": "F6WHhfnpYqAB",
        "outputId": "098c48d6-24ab-45aa-ebcc-e0513761d46d"
      },
      "execution_count": null,
      "outputs": [
        {
          "output_type": "stream",
          "name": "stdout",
          "text": [
            "Enter 1st Number :- 33\n",
            "Enter 2nd Number :- 20\n",
            "Addition = 53\n"
          ]
        }
      ]
    },
    {
      "cell_type": "code",
      "source": [
        "obj2 = calc()"
      ],
      "metadata": {
        "id": "t1l4YQFNYske"
      },
      "execution_count": null,
      "outputs": []
    },
    {
      "cell_type": "code",
      "source": [
        "obj2.sub(80,20)"
      ],
      "metadata": {
        "colab": {
          "base_uri": "https://localhost:8080/"
        },
        "id": "fTRgYGG-YvN1",
        "outputId": "69c70eaf-32d7-4ab8-b1cb-4f4978f35736"
      },
      "execution_count": null,
      "outputs": [
        {
          "output_type": "stream",
          "name": "stdout",
          "text": [
            "Subtraction = 60\n"
          ]
        }
      ]
    },
    {
      "cell_type": "code",
      "source": [
        "calc.sub(obj2,80,20)"
      ],
      "metadata": {
        "colab": {
          "base_uri": "https://localhost:8080/"
        },
        "id": "kjRWrsR5Yw6K",
        "outputId": "1a04964c-6c95-4ed4-d467-389e9e9e0409"
      },
      "execution_count": null,
      "outputs": [
        {
          "output_type": "stream",
          "name": "stdout",
          "text": [
            "Subtraction = 60\n"
          ]
        }
      ]
    },
    {
      "cell_type": "code",
      "source": [],
      "metadata": {
        "id": "oe3KSmC7Y0m6"
      },
      "execution_count": null,
      "outputs": []
    },
    {
      "cell_type": "markdown",
      "source": [
        "**Type of Variable**\n",
        "  * Intance Variable\n",
        "  *  class/static Variable\n",
        "\n",
        "**Types of Method**\n",
        "  * instance Method\n",
        "    * Aceesor :- get_xxxx()\n",
        "    * Mutators :- set_xxxx()\n",
        "  * class Method\n",
        "  * Static Method   "
      ],
      "metadata": {
        "id": "UWq0ZTUIZzJY"
      }
    },
    {
      "cell_type": "code",
      "source": [
        "df1 = (1,2,3,4)\n",
        "df2 = (4,5,6,7)\n",
        "\n",
        "type(df1 + df2)"
      ],
      "metadata": {
        "colab": {
          "base_uri": "https://localhost:8080/"
        },
        "id": "KYDRUFd4ZYyj",
        "outputId": "fefac788-882f-4efe-fb7d-4f4bc62f3452"
      },
      "execution_count": null,
      "outputs": [
        {
          "output_type": "execute_result",
          "data": {
            "text/plain": [
              "tuple"
            ]
          },
          "metadata": {},
          "execution_count": 30
        }
      ]
    },
    {
      "cell_type": "code",
      "source": [
        "class employee:\n",
        "  cmp = \"TCS\" # class/satic Variable\n",
        "  def __init__(self):\n",
        "    self.name = \"Akash\" # instance Variable\n",
        "    self.age = 28\n",
        "    self.ac = 8767687798\n",
        "    self.__sal = 25600\n",
        "    self.__loan = 4352\n",
        "    print(\"Myself Constructer .....\")\n",
        "\n",
        "  def get_show(self):\n",
        "    print(f\"Complany ={employee.cmp} Name = {self.name} Age = {self.age} Account = {self.ac} Salary ={self._employee__sal} Loan = {self._employee__loan} \")\n",
        "\n",
        "  def set_inc(self):\n",
        "    self.sal = self.sal + self.sal*0.1\n",
        "\n",
        "  @classmethod\n",
        "  def modify(cls):\n",
        "    cls.cmp = \"Infosys\"\n",
        "\n",
        "  @staticmethod\n",
        "  def calc():\n",
        "    n1 = eval(input(\"Enter 1st Number :- \"))\n",
        "    n2 = eval(input(\"Enter 2nd Number :- \"))\n",
        "    print(f\"Addition = {n1+n2} Subtraction = {n1-n2}\" )\n",
        "\n"
      ],
      "metadata": {
        "id": "lC4Rt6iLZY1v"
      },
      "execution_count": null,
      "outputs": []
    },
    {
      "cell_type": "code",
      "source": [
        "df1= employee()\n",
        "df2=employee()\n",
        "df3 =employee()"
      ],
      "metadata": {
        "id": "MatEymmrZY5B",
        "colab": {
          "base_uri": "https://localhost:8080/"
        },
        "outputId": "352f335f-8392-4675-cbd3-888adfbbfd9e"
      },
      "execution_count": null,
      "outputs": [
        {
          "output_type": "stream",
          "name": "stdout",
          "text": [
            "Myself Constructer .....\n",
            "Myself Constructer .....\n",
            "Myself Constructer .....\n"
          ]
        }
      ]
    },
    {
      "cell_type": "code",
      "source": [
        "df1.__sal"
      ],
      "metadata": {
        "colab": {
          "base_uri": "https://localhost:8080/",
          "height": 144
        },
        "id": "flyrWMHdkbHO",
        "outputId": "8c28b6c9-8668-48bb-cfd0-8275270a13d1"
      },
      "execution_count": null,
      "outputs": [
        {
          "output_type": "error",
          "ename": "AttributeError",
          "evalue": "'employee' object has no attribute '__sal'",
          "traceback": [
            "\u001b[0;31m---------------------------------------------------------------------------\u001b[0m",
            "\u001b[0;31mAttributeError\u001b[0m                            Traceback (most recent call last)",
            "\u001b[0;32m<ipython-input-90-2c7efdd35ddd>\u001b[0m in \u001b[0;36m<cell line: 1>\u001b[0;34m()\u001b[0m\n\u001b[0;32m----> 1\u001b[0;31m \u001b[0mdf1\u001b[0m\u001b[0;34m.\u001b[0m\u001b[0m__sal\u001b[0m\u001b[0;34m\u001b[0m\u001b[0;34m\u001b[0m\u001b[0m\n\u001b[0m",
            "\u001b[0;31mAttributeError\u001b[0m: 'employee' object has no attribute '__sal'"
          ]
        }
      ]
    },
    {
      "cell_type": "code",
      "source": [
        "df1._employee__loan"
      ],
      "metadata": {
        "id": "LXnAfRD1kbKs"
      },
      "execution_count": null,
      "outputs": []
    },
    {
      "cell_type": "code",
      "source": [],
      "metadata": {
        "id": "qHV2j9dFkjkx"
      },
      "execution_count": null,
      "outputs": []
    },
    {
      "cell_type": "code",
      "source": [],
      "metadata": {
        "id": "t8SQSg_GkjoV"
      },
      "execution_count": null,
      "outputs": []
    },
    {
      "cell_type": "code",
      "source": [
        "df1.cmp"
      ],
      "metadata": {
        "colab": {
          "base_uri": "https://localhost:8080/",
          "height": 36
        },
        "id": "JOXOvNl4iDZc",
        "outputId": "4e3b8138-fb0a-48fd-e710-44d9acd6e1f8"
      },
      "execution_count": null,
      "outputs": [
        {
          "output_type": "execute_result",
          "data": {
            "text/plain": [
              "'TCS'"
            ],
            "application/vnd.google.colaboratory.intrinsic+json": {
              "type": "string"
            }
          },
          "metadata": {},
          "execution_count": 91
        }
      ]
    },
    {
      "cell_type": "code",
      "source": [
        "df1.calc()"
      ],
      "metadata": {
        "colab": {
          "base_uri": "https://localhost:8080/"
        },
        "id": "PjvPDSu-kAUE",
        "outputId": "629e6717-9367-47ac-f66f-77012426fa69"
      },
      "execution_count": null,
      "outputs": [
        {
          "output_type": "stream",
          "name": "stdout",
          "text": [
            "Enter 1st Number :- 455\n",
            "Enter 2nd Number :- 20\n",
            "Addition = 475 Subtraction = 435\n"
          ]
        }
      ]
    },
    {
      "cell_type": "code",
      "source": [
        "df1.cmp = \"Tata Motors\""
      ],
      "metadata": {
        "id": "Jwk1q9BoiIhr"
      },
      "execution_count": null,
      "outputs": []
    },
    {
      "cell_type": "code",
      "source": [
        "df1.get_show()"
      ],
      "metadata": {
        "colab": {
          "base_uri": "https://localhost:8080/"
        },
        "id": "5sOzDOHNiMR9",
        "outputId": "68f796d3-96e8-4247-aac9-1bfa698ce558"
      },
      "execution_count": null,
      "outputs": [
        {
          "output_type": "stream",
          "name": "stdout",
          "text": [
            "Complany =TCS Name = Akash Age = 28 Account = 8767687798 Salary =25600 Loan = 4352 \n"
          ]
        }
      ]
    },
    {
      "cell_type": "code",
      "source": [
        "df1.modify()"
      ],
      "metadata": {
        "id": "BkFG0KrmjThG"
      },
      "execution_count": null,
      "outputs": []
    },
    {
      "cell_type": "code",
      "source": [
        "df1.get_show()"
      ],
      "metadata": {
        "colab": {
          "base_uri": "https://localhost:8080/"
        },
        "id": "_3H5rWGTjTkp",
        "outputId": "85103d2b-85d3-46bd-f0e4-6cab8fe06c65"
      },
      "execution_count": null,
      "outputs": [
        {
          "output_type": "stream",
          "name": "stdout",
          "text": [
            "Complany =Infosys Name = Akash Age = 28 Account = 8767687798 Salary =25600 Loan = 4352 \n"
          ]
        }
      ]
    },
    {
      "cell_type": "code",
      "source": [
        "employee.cmp = \"Tata Motors\""
      ],
      "metadata": {
        "id": "_51VrRp4ie74"
      },
      "execution_count": null,
      "outputs": []
    },
    {
      "cell_type": "code",
      "source": [
        "df1.get_show()"
      ],
      "metadata": {
        "colab": {
          "base_uri": "https://localhost:8080/"
        },
        "id": "oI_TZzfUijvY",
        "outputId": "18c068f8-7a6f-462b-c927-76d847b296bb"
      },
      "execution_count": null,
      "outputs": [
        {
          "output_type": "stream",
          "name": "stdout",
          "text": [
            "Complany =Tata Motors Name = Akash Age = 28 Account = 8767687798 Salary =25600 Loan = 4352 \n"
          ]
        }
      ]
    },
    {
      "cell_type": "code",
      "source": [
        "df2.get_show()"
      ],
      "metadata": {
        "colab": {
          "base_uri": "https://localhost:8080/"
        },
        "id": "Fx57F0imiMUI",
        "outputId": "81b42963-1c6f-4f74-a0c7-85adf4c96a1a"
      },
      "execution_count": null,
      "outputs": [
        {
          "output_type": "stream",
          "name": "stdout",
          "text": [
            "Complany =Infosys Name = Akash Age = 28 Account = 8767687798 Salary =25600 Loan = 4352 \n"
          ]
        }
      ]
    },
    {
      "cell_type": "code",
      "source": [
        "df6 = employee()"
      ],
      "metadata": {
        "colab": {
          "base_uri": "https://localhost:8080/"
        },
        "id": "fDhF1lhqimws",
        "outputId": "087049ce-2e6f-483a-80d4-7ad213c6bcc6"
      },
      "execution_count": null,
      "outputs": [
        {
          "output_type": "stream",
          "name": "stdout",
          "text": [
            "Myself Constructer .....\n"
          ]
        }
      ]
    },
    {
      "cell_type": "code",
      "source": [
        "df6.get_show()"
      ],
      "metadata": {
        "colab": {
          "base_uri": "https://localhost:8080/"
        },
        "id": "IHm-CTZdinPO",
        "outputId": "721f9f9c-34f4-4315-bd8d-f0e731094224"
      },
      "execution_count": null,
      "outputs": [
        {
          "output_type": "stream",
          "name": "stdout",
          "text": [
            "Complany =Tata Motors Name = Akash Age = 28 Account = 8767687798 Salary =25600 Loan = 4352 \n"
          ]
        }
      ]
    },
    {
      "cell_type": "code",
      "source": [],
      "metadata": {
        "id": "aJOxbC2tinSr"
      },
      "execution_count": null,
      "outputs": []
    },
    {
      "cell_type": "code",
      "source": [
        "df1.age"
      ],
      "metadata": {
        "colab": {
          "base_uri": "https://localhost:8080/"
        },
        "id": "pB9RobbfcFdg",
        "outputId": "6e87b413-bfe4-4f33-d3cd-534c64940b70"
      },
      "execution_count": null,
      "outputs": [
        {
          "output_type": "execute_result",
          "data": {
            "text/plain": [
              "28"
            ]
          },
          "metadata": {},
          "execution_count": 50
        }
      ]
    },
    {
      "cell_type": "code",
      "source": [
        "df1.get_show()"
      ],
      "metadata": {
        "colab": {
          "base_uri": "https://localhost:8080/"
        },
        "id": "e2xv5WXYb9g2",
        "outputId": "b54df63e-4a1c-44df-ec19-c53dcce6f70c"
      },
      "execution_count": null,
      "outputs": [
        {
          "output_type": "stream",
          "name": "stdout",
          "text": [
            "Complany =TCS Name = Akash Age = 28 Account = 8767687798 Salary =25600 Loan = 4352 \n"
          ]
        }
      ]
    },
    {
      "cell_type": "code",
      "source": [
        "df1.set_inc()"
      ],
      "metadata": {
        "id": "aWO2YXCBdYXY"
      },
      "execution_count": null,
      "outputs": []
    },
    {
      "cell_type": "code",
      "source": [
        "df1.get_show()"
      ],
      "metadata": {
        "colab": {
          "base_uri": "https://localhost:8080/"
        },
        "id": "MwZ_XMXKdkc7",
        "outputId": "b2d8d78f-b22f-43cf-f07d-697b0c235793"
      },
      "execution_count": null,
      "outputs": [
        {
          "output_type": "stream",
          "name": "stdout",
          "text": [
            "Name = Akash Age = 28 Account = 8767687798 Salary =28160.0 Loan = 4352 \n"
          ]
        }
      ]
    },
    {
      "cell_type": "code",
      "source": [
        "df1.name"
      ],
      "metadata": {
        "colab": {
          "base_uri": "https://localhost:8080/",
          "height": 36
        },
        "id": "0cg4OciNcAEm",
        "outputId": "79cec4c4-2c92-43e7-887d-e4d1ce15f934"
      },
      "execution_count": null,
      "outputs": [
        {
          "output_type": "execute_result",
          "data": {
            "text/plain": [
              "'Akash'"
            ],
            "application/vnd.google.colaboratory.intrinsic+json": {
              "type": "string"
            }
          },
          "metadata": {},
          "execution_count": 29
        }
      ]
    },
    {
      "cell_type": "code",
      "source": [
        "df2 = employee()"
      ],
      "metadata": {
        "id": "UR_YFjvsc11f"
      },
      "execution_count": null,
      "outputs": []
    },
    {
      "cell_type": "code",
      "source": [
        "df2.get_show()"
      ],
      "metadata": {
        "colab": {
          "base_uri": "https://localhost:8080/"
        },
        "id": "7COBNHLec8XM",
        "outputId": "68404128-ef71-4386-b5ac-364cfca89560"
      },
      "execution_count": null,
      "outputs": [
        {
          "output_type": "stream",
          "name": "stdout",
          "text": [
            "Name = Akash Age = 28 Account = 8767687798 Salary =25600 Loan = 4352 \n"
          ]
        }
      ]
    },
    {
      "cell_type": "code",
      "source": [
        "df2.name =\"Mukesh\"\n",
        "df2.ac=878768767\n",
        "df2.sal = 57658\n"
      ],
      "metadata": {
        "id": "snXFL3bRc93t"
      },
      "execution_count": null,
      "outputs": []
    },
    {
      "cell_type": "code",
      "source": [
        "df2.get_show()"
      ],
      "metadata": {
        "colab": {
          "base_uri": "https://localhost:8080/"
        },
        "id": "2rD_h3L1dFVm",
        "outputId": "2c9270db-090f-4282-d2a0-b22e3ce72d31"
      },
      "execution_count": null,
      "outputs": [
        {
          "output_type": "stream",
          "name": "stdout",
          "text": [
            "Name = Mukesh Age = 28 Account = 878768767 Salary =57658 Loan = 4352 \n"
          ]
        }
      ]
    },
    {
      "cell_type": "code",
      "source": [],
      "metadata": {
        "id": "YiOfH6CedGWI"
      },
      "execution_count": null,
      "outputs": []
    },
    {
      "cell_type": "markdown",
      "source": [
        "**Inheritance**\n",
        "  * Single Inhertance :- a class derived from only one calss ,t.e called single inheritance.\n",
        "  * Multiple inheratance :- a class derived from more than one calss , t.e called Multiple inheritance\n"
      ],
      "metadata": {
        "id": "fr8oJYXqlOFl"
      }
    },
    {
      "cell_type": "code",
      "source": [
        "class calc:\n",
        "  def add(self):\n",
        "    n1 = 20\n",
        "    n2 = 40\n",
        "    print(\"Addition =\",n1+n2)\n",
        "  def sub(self):\n",
        "    n1=20\n",
        "    n2=30\n",
        "    print(\"Subtraction  =\",n1-n2)\n",
        "\n",
        "class airt(calc):\n",
        "  def mult(self):\n",
        "    n1 = 30\n",
        "    n2 = 10\n",
        "    print(\"Multiplication =\",n1*n2)\n",
        "\n",
        "  def div(self):\n",
        "    x=60\n",
        "    y=15\n",
        "    print(\"Divsion =\",x/y)\n"
      ],
      "metadata": {
        "id": "0zoPwUeJhXv3"
      },
      "execution_count": null,
      "outputs": []
    },
    {
      "cell_type": "code",
      "source": [
        "df = airt()"
      ],
      "metadata": {
        "id": "l7xZpZ70hX27"
      },
      "execution_count": null,
      "outputs": []
    },
    {
      "cell_type": "code",
      "source": [
        "df1 = calc()"
      ],
      "metadata": {
        "id": "HwWGsPBNozHk"
      },
      "execution_count": null,
      "outputs": []
    },
    {
      "cell_type": "code",
      "source": [
        "df1.add()"
      ],
      "metadata": {
        "colab": {
          "base_uri": "https://localhost:8080/"
        },
        "id": "8NhhCUJ0o1V7",
        "outputId": "49a7f12f-1f66-4aac-c15a-5d9fdae31c41"
      },
      "execution_count": null,
      "outputs": [
        {
          "output_type": "stream",
          "name": "stdout",
          "text": [
            "Addition = 60\n"
          ]
        }
      ]
    },
    {
      "cell_type": "code",
      "source": [
        "df1.div()"
      ],
      "metadata": {
        "colab": {
          "base_uri": "https://localhost:8080/",
          "height": 144
        },
        "id": "cda7nJh_o1kY",
        "outputId": "6b2b98f8-5927-4b15-a6bb-432a9f6b1e9c"
      },
      "execution_count": null,
      "outputs": [
        {
          "output_type": "error",
          "ename": "AttributeError",
          "evalue": "'calc' object has no attribute 'div'",
          "traceback": [
            "\u001b[0;31m---------------------------------------------------------------------------\u001b[0m",
            "\u001b[0;31mAttributeError\u001b[0m                            Traceback (most recent call last)",
            "\u001b[0;32m<ipython-input-10-55fb0f7ca4fe>\u001b[0m in \u001b[0;36m<cell line: 1>\u001b[0;34m()\u001b[0m\n\u001b[0;32m----> 1\u001b[0;31m \u001b[0mdf1\u001b[0m\u001b[0;34m.\u001b[0m\u001b[0mdiv\u001b[0m\u001b[0;34m(\u001b[0m\u001b[0;34m)\u001b[0m\u001b[0;34m\u001b[0m\u001b[0;34m\u001b[0m\u001b[0m\n\u001b[0m",
            "\u001b[0;31mAttributeError\u001b[0m: 'calc' object has no attribute 'div'"
          ]
        }
      ]
    },
    {
      "cell_type": "code",
      "source": [
        "df.add()"
      ],
      "metadata": {
        "colab": {
          "base_uri": "https://localhost:8080/"
        },
        "id": "UOF9snIgoiey",
        "outputId": "2297b5e8-49e0-480b-da69-895964a99f99"
      },
      "execution_count": null,
      "outputs": [
        {
          "output_type": "stream",
          "name": "stdout",
          "text": [
            "Addition = 60\n"
          ]
        }
      ]
    },
    {
      "cell_type": "code",
      "source": [
        "df.sub()"
      ],
      "metadata": {
        "colab": {
          "base_uri": "https://localhost:8080/"
        },
        "id": "gvbjOmOmopT_",
        "outputId": "63f7d531-4eca-4c98-fcfe-f1f76778f7a5"
      },
      "execution_count": null,
      "outputs": [
        {
          "output_type": "stream",
          "name": "stdout",
          "text": [
            "Subtraction  = -10\n"
          ]
        }
      ]
    },
    {
      "cell_type": "code",
      "source": [
        "df.mult()"
      ],
      "metadata": {
        "colab": {
          "base_uri": "https://localhost:8080/"
        },
        "id": "_V6KLEOuorl3",
        "outputId": "1f36ec72-467b-4ab8-da5c-6e331aa30c3d"
      },
      "execution_count": null,
      "outputs": [
        {
          "output_type": "stream",
          "name": "stdout",
          "text": [
            "Multiplication = 300\n"
          ]
        }
      ]
    },
    {
      "cell_type": "code",
      "source": [
        "df.div()"
      ],
      "metadata": {
        "colab": {
          "base_uri": "https://localhost:8080/"
        },
        "id": "mO5DCSU_ovLF",
        "outputId": "2e80651b-4674-44c6-b586-5c58fa304850"
      },
      "execution_count": null,
      "outputs": [
        {
          "output_type": "stream",
          "name": "stdout",
          "text": [
            "Divsion = 4.0\n"
          ]
        }
      ]
    },
    {
      "cell_type": "code",
      "source": [
        "class parent:\n",
        "  def __init__(self):\n",
        "    self.bal1 = 3560000\n",
        "    self.loan1 = 65757\n",
        "    self.ac1 =8797998989\n",
        "\n",
        "  def get_show(self):\n",
        "    print(f\"Parent's Balance = {self.bal1} Loan Ammount = {self.loan1} Account Number = {self.ac1}\")\n",
        "\n",
        "\n",
        "class child(parent):\n",
        "  def __init__(self):\n",
        "    self.bal = 42500000\n",
        "    self.loan = 345345\n",
        "    self.ac = 4354647\n",
        "    super().__init__()\n",
        "\n",
        "  def get_show(self):\n",
        "    super().get_show()\n",
        "    print(f\"Child's Balance = {self.bal} Loan Ammount = {self.loan} Account Number = {self.ac}\")\n",
        "\n",
        "  def total_prop(self):\n",
        "    print(f\"Total Property of child ={self.bal + self.bal1} Loan Ammount ={self.loan+self.loan1} \")\n",
        "\n"
      ],
      "metadata": {
        "id": "8FEJyc2Tov6J"
      },
      "execution_count": null,
      "outputs": []
    },
    {
      "cell_type": "code",
      "source": [
        "df1 = child()"
      ],
      "metadata": {
        "id": "6gSaXEWkp3HC"
      },
      "execution_count": null,
      "outputs": []
    },
    {
      "cell_type": "code",
      "source": [
        "df1.loan"
      ],
      "metadata": {
        "colab": {
          "base_uri": "https://localhost:8080/"
        },
        "id": "3XCLbeyzp6v6",
        "outputId": "060a705b-9679-4216-cb59-de00e904f7a0"
      },
      "execution_count": null,
      "outputs": [
        {
          "output_type": "execute_result",
          "data": {
            "text/plain": [
              "345345"
            ]
          },
          "metadata": {},
          "execution_count": 42
        }
      ]
    },
    {
      "cell_type": "code",
      "source": [
        "df1.bal"
      ],
      "metadata": {
        "colab": {
          "base_uri": "https://localhost:8080/"
        },
        "id": "NWwHZ4jeq54t",
        "outputId": "27bb832e-8981-4672-def6-74a0bbc7377a"
      },
      "execution_count": null,
      "outputs": [
        {
          "output_type": "execute_result",
          "data": {
            "text/plain": [
              "42500000"
            ]
          },
          "metadata": {},
          "execution_count": 43
        }
      ]
    },
    {
      "cell_type": "code",
      "source": [
        "df1.get_show()"
      ],
      "metadata": {
        "colab": {
          "base_uri": "https://localhost:8080/"
        },
        "id": "u_i0nl2yqJmY",
        "outputId": "44a99c87-8d2f-46d5-ca4d-a42c0ce2bb85"
      },
      "execution_count": null,
      "outputs": [
        {
          "output_type": "stream",
          "name": "stdout",
          "text": [
            "Parent's Balance = 3560000 Loan Ammount = 65757 Account Number = 8797998989\n",
            "Child's Balance = 42500000 Loan Ammount = 345345 Account Number = 4354647\n"
          ]
        }
      ]
    },
    {
      "cell_type": "code",
      "source": [
        "df1.total_prop()"
      ],
      "metadata": {
        "colab": {
          "base_uri": "https://localhost:8080/"
        },
        "id": "_REfTGghqaZC",
        "outputId": "24e52ad7-fc9c-4600-db7d-22f566b68a46"
      },
      "execution_count": null,
      "outputs": [
        {
          "output_type": "stream",
          "name": "stdout",
          "text": [
            "Total Property of child =46060000 Loan Ammount =411102 \n"
          ]
        }
      ]
    },
    {
      "cell_type": "code",
      "source": [
        "# Multiple Inheritance"
      ],
      "metadata": {
        "id": "nJbnNKiUtDZi"
      },
      "execution_count": null,
      "outputs": []
    },
    {
      "cell_type": "code",
      "source": [
        "class parent:\n",
        "  def __init__(self):\n",
        "    self.bal1 = 3560000\n",
        "    self.loan1 = 65757\n",
        "    self.ac1 =8797998989\n",
        "    super().__init__()\n",
        "\n",
        "  def get_show(self):\n",
        "    print(f\"Parent's Balance = {self.bal1} Loan Ammount = {self.loan1} Account Number = {self.ac1}\")\n",
        "    super().get_show()\n",
        "\n",
        "\n",
        "class mother:\n",
        "  def __init__(self):\n",
        "    self.bal2 = 325000\n",
        "    self.laon2 = 0\n",
        "    self.ac2 = 43553\n",
        "\n",
        "  def get_show(self):\n",
        "    print(f\"Mother's Balance = {self.bal2} Loan Ammount = {self.laon2} Account Number = {self.ac2}\")\n",
        "\n",
        "class child(parent,mother):\n",
        "  def __init__(self):\n",
        "    self.bal = 42500000\n",
        "    self.loan = 345345\n",
        "    self.ac = 4354647\n",
        "    super().__init__()\n",
        "\n",
        "  def get_show(self):\n",
        "    super().get_show()\n",
        "    print(f\"Child's Balance = {self.bal} Loan Ammount = {self.loan} Account Number = {self.ac}\")\n",
        "\n",
        "  def total_prop(self):\n",
        "    print(f\"Total Property of child ={self.bal + self.bal1 + self.bal2 } Loan Ammount ={self.loan+self.loan1+laon2 } \")\n",
        "\n"
      ],
      "metadata": {
        "id": "KdPARSAmtIOA"
      },
      "execution_count": 21,
      "outputs": []
    },
    {
      "cell_type": "code",
      "source": [
        "df = child()\n",
        "df.bal2"
      ],
      "metadata": {
        "colab": {
          "base_uri": "https://localhost:8080/"
        },
        "id": "tmJA53entIRv",
        "outputId": "adb3328b-ea60-4845-a6a1-a5e287f41b39"
      },
      "execution_count": 22,
      "outputs": [
        {
          "output_type": "execute_result",
          "data": {
            "text/plain": [
              "325000"
            ]
          },
          "metadata": {},
          "execution_count": 22
        }
      ]
    },
    {
      "cell_type": "code",
      "source": [
        "df.laon2"
      ],
      "metadata": {
        "colab": {
          "base_uri": "https://localhost:8080/"
        },
        "id": "4UQrRK5ztDWC",
        "outputId": "156697b7-fe8d-4956-dbb7-b6dd929dde42"
      },
      "execution_count": 23,
      "outputs": [
        {
          "output_type": "execute_result",
          "data": {
            "text/plain": [
              "0"
            ]
          },
          "metadata": {},
          "execution_count": 23
        }
      ]
    },
    {
      "cell_type": "code",
      "source": [
        "df.get_show()"
      ],
      "metadata": {
        "colab": {
          "base_uri": "https://localhost:8080/"
        },
        "id": "czNplXILtDTD",
        "outputId": "e88a0a10-d17a-40c1-af01-0f4a08dd81dc"
      },
      "execution_count": 24,
      "outputs": [
        {
          "output_type": "stream",
          "name": "stdout",
          "text": [
            "Parent's Balance = 3560000 Loan Ammount = 65757 Account Number = 8797998989\n",
            "Mother's Balance = 325000 Loan Ammount = 0 Account Number = 43553\n",
            "Child's Balance = 42500000 Loan Ammount = 345345 Account Number = 4354647\n"
          ]
        }
      ]
    },
    {
      "cell_type": "code",
      "source": [
        "class circle:\n",
        "  def __init__(self,r):\n",
        "    self.r = r\n",
        "    super().__init__(int(input('Enter the length ')),int(input(\"Enter the bredth \")))\n",
        "\n",
        "  def area(self):\n",
        "    print(f\"Area of Circle = \",3.14 * self.r **2 )\n",
        "    super().area()\n",
        "\n",
        "\n",
        "class rectangle:\n",
        "  def __init__(self,l,b):\n",
        "    self.l = l\n",
        "    self.b = b\n",
        "\n",
        "  def area(self):\n",
        "    print(f\"Area of Rectangle = \",self.l * self.b )\n",
        "\n",
        "\n",
        "\n",
        "class square(circle,rectangle):\n",
        "  def __init__(self,x):\n",
        "    self.x = x\n",
        "    super().__init__(x)\n",
        "\n",
        "  def area(self):\n",
        "    print(f\"Area of Square = \",self.x * self.x )\n",
        "    super().area()\n",
        "\n",
        ""
      ],
      "metadata": {
        "id": "gzqx7cDjtCul"
      },
      "execution_count": 28,
      "outputs": []
    },
    {
      "cell_type": "code",
      "source": [
        "s1 = square(12)"
      ],
      "metadata": {
        "id": "CiVz3uR3shw0",
        "colab": {
          "base_uri": "https://localhost:8080/"
        },
        "outputId": "7a3577b3-d026-4d20-b0b6-9e5fba43d3ef"
      },
      "execution_count": 29,
      "outputs": [
        {
          "name": "stdout",
          "output_type": "stream",
          "text": [
            "Enter the length 6\n",
            "Enter the bredth 2\n"
          ]
        }
      ]
    },
    {
      "cell_type": "code",
      "source": [
        "s1.area()"
      ],
      "metadata": {
        "colab": {
          "base_uri": "https://localhost:8080/"
        },
        "id": "Vp5R5nXTy3rJ",
        "outputId": "881cdab1-c589-482e-9c75-9fffce83ac94"
      },
      "execution_count": 30,
      "outputs": [
        {
          "output_type": "stream",
          "name": "stdout",
          "text": [
            "Area of Square =  144\n",
            "Area of Circle =  452.16\n",
            "Area of Rectangle =  12\n"
          ]
        }
      ]
    },
    {
      "cell_type": "code",
      "source": [],
      "metadata": {
        "id": "3ybjf0qUzJVX"
      },
      "execution_count": null,
      "outputs": []
    },
    {
      "cell_type": "markdown",
      "source": [],
      "metadata": {
        "id": "iy39jCsqzWGp"
      }
    },
    {
      "cell_type": "markdown",
      "source": [
        "**Polymorphism :-**\n",
        "  * Duck Typing\n",
        "  * Operator Overloading\n",
        "  * Method Overloading\n",
        "  * Method Overiding"
      ],
      "metadata": {
        "id": "zhMxRcFvzWL0"
      }
    },
    {
      "cell_type": "code",
      "source": [],
      "metadata": {
        "id": "gKpMAiIPzqL4"
      },
      "execution_count": null,
      "outputs": []
    }
  ]
}